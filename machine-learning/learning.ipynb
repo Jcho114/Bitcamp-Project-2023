{
 "cells": [
  {
   "cell_type": "code",
   "execution_count": null,
   "metadata": {},
   "outputs": [],
   "source": [
    "import numpy as np\n",
    "import pandas as pd\n",
    "from sklearn.linear_model import LinearRegression\n",
    "\n",
    "df = pd.read_csv('final_data.csv')\n",
    "years = df['Year'].to_numpy()\n",
    "longitudes = df['Longitude'].to_numpy()\n",
    "latitudes = df['Latitude'].to_numpy()"
   ]
  }
 ],
 "metadata": {
  "language_info": {
   "name": "python"
  },
  "orig_nbformat": 4
 },
 "nbformat": 4,
 "nbformat_minor": 2
}
