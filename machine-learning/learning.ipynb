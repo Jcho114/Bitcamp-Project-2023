{
 "cells": [
  {
   "cell_type": "code",
   "execution_count": 4,
   "metadata": {},
   "outputs": [
    {
     "name": "stdout",
     "output_type": "stream",
     "text": [
      "[[-1.          0.25595238  0.09381663]\n",
      " [-1.          0.73214286 -0.31769723]\n",
      " [-1.          0.62103175 -0.20255864]\n",
      " ...\n",
      " [ 1.         -0.16865079  0.32835821]\n",
      " [ 1.         -0.20238095  0.445629  ]\n",
      " [ 1.         -0.21230159  1.        ]]\n"
     ]
    }
   ],
   "source": [
    "import numpy as np\n",
    "import pandas as pd\n",
    "from sklearn.preprocessing import MinMaxScaler\n",
    "from sklearn import linear_model\n",
    "\n",
    "df = pd.read_csv('final_data.csv')\n",
    "#TODO: replace with mean of year instead of mean of all time\n",
    "df.replace(['-', '(X)'], float(\"nan\"), inplace=True)\n",
    "df = df.apply(pd.to_numeric)\n",
    "for col in df.columns:\n",
    "    df[col].replace(float(\"nan\"), df[col].mean(), inplace=True)\n",
    "df = MinMaxScaler(feature_range=(-1, 1)).fit_transform(df)\n",
    "# print(df[(df == '-').any(axis=1)])\n",
    "years = df[:, 0]\n",
    "longitudes = df[:, 2]\n",
    "latitudes = df[:, 3]\n",
    "X = np.vstack((years, longitudes, latitudes)).T\n",
    "print(X)"
   ]
  },
  {
   "cell_type": "code",
   "execution_count": 5,
   "metadata": {},
   "outputs": [
    {
     "name": "stdout",
     "output_type": "stream",
     "text": [
      "[ 0.06980302 -0.38360147 -0.32875502]\n",
      "-0.5840963894665046\n"
     ]
    },
    {
     "name": "stderr",
     "output_type": "stream",
     "text": [
      "c:\\Users\\ishaa\\anaconda3\\lib\\site-packages\\sklearn\\linear_model\\_base.py:141: FutureWarning: 'normalize' was deprecated in version 1.0 and will be removed in 1.2.\n",
      "If you wish to scale the data, use Pipeline with a StandardScaler in a preprocessing stage. To reproduce the previous behavior:\n",
      "\n",
      "from sklearn.pipeline import make_pipeline\n",
      "\n",
      "model = make_pipeline(StandardScaler(with_mean=False), LinearRegression())\n",
      "\n",
      "If you wish to pass a sample_weight parameter, you need to pass it as a fit parameter to each step of the pipeline as follows:\n",
      "\n",
      "kwargs = {s[0] + '__sample_weight': sample_weight for s in model.steps}\n",
      "model.fit(X, y, **kwargs)\n",
      "\n",
      "\n",
      "  warnings.warn(\n"
     ]
    }
   ],
   "source": [
    "inc_model_ols = linear_model.LinearRegression(normalize=True)\n",
    "incs = df[:, 4]\n",
    "inc_model_ols.fit(X, incs)\n",
    "print(inc_model_ols.coef_)\n",
    "print(inc_model_ols.intercept_)"
   ]
  },
  {
   "cell_type": "code",
   "execution_count": 6,
   "metadata": {},
   "outputs": [
    {
     "name": "stdout",
     "output_type": "stream",
     "text": [
      "[ 0.24488483 -0.12979739 -0.19119114]\n",
      "-0.8950502522461439\n"
     ]
    },
    {
     "name": "stderr",
     "output_type": "stream",
     "text": [
      "c:\\Users\\ishaa\\anaconda3\\lib\\site-packages\\sklearn\\linear_model\\_base.py:141: FutureWarning: 'normalize' was deprecated in version 1.0 and will be removed in 1.2.\n",
      "If you wish to scale the data, use Pipeline with a StandardScaler in a preprocessing stage. To reproduce the previous behavior:\n",
      "\n",
      "from sklearn.pipeline import make_pipeline\n",
      "\n",
      "model = make_pipeline(StandardScaler(with_mean=False), LinearRegression())\n",
      "\n",
      "If you wish to pass a sample_weight parameter, you need to pass it as a fit parameter to each step of the pipeline as follows:\n",
      "\n",
      "kwargs = {s[0] + '__sample_weight': sample_weight for s in model.steps}\n",
      "model.fit(X, y, **kwargs)\n",
      "\n",
      "\n",
      "  warnings.warn(\n"
     ]
    }
   ],
   "source": [
    "age_model_ols = linear_model.LinearRegression(normalize=True)\n",
    "ages = df[:, 5]\n",
    "age_model_ols.fit(X, ages)\n",
    "print(age_model_ols.coef_)\n",
    "print(age_model_ols.intercept_)"
   ]
  },
  {
   "cell_type": "code",
   "execution_count": 7,
   "metadata": {},
   "outputs": [
    {
     "name": "stdout",
     "output_type": "stream",
     "text": [
      "[ 0.01263346 -0.33613542 -0.53810437]\n",
      "-0.7486845974350531\n"
     ]
    },
    {
     "name": "stderr",
     "output_type": "stream",
     "text": [
      "c:\\Users\\ishaa\\anaconda3\\lib\\site-packages\\sklearn\\linear_model\\_base.py:141: FutureWarning: 'normalize' was deprecated in version 1.0 and will be removed in 1.2.\n",
      "If you wish to scale the data, use Pipeline with a StandardScaler in a preprocessing stage. To reproduce the previous behavior:\n",
      "\n",
      "from sklearn.pipeline import make_pipeline\n",
      "\n",
      "model = make_pipeline(StandardScaler(with_mean=False), LinearRegression())\n",
      "\n",
      "If you wish to pass a sample_weight parameter, you need to pass it as a fit parameter to each step of the pipeline as follows:\n",
      "\n",
      "kwargs = {s[0] + '__sample_weight': sample_weight for s in model.steps}\n",
      "model.fit(X, y, **kwargs)\n",
      "\n",
      "\n",
      "  warnings.warn(\n"
     ]
    }
   ],
   "source": [
    "pop_model_ols = linear_model.LinearRegression(normalize=True)\n",
    "pops = df[:, 6]\n",
    "pop_model_ols.fit(X, pops)\n",
    "print(pop_model_ols.coef_)\n",
    "print(pop_model_ols.intercept_)"
   ]
  },
  {
   "cell_type": "code",
   "execution_count": 8,
   "metadata": {},
   "outputs": [
    {
     "name": "stdout",
     "output_type": "stream",
     "text": [
      "[ 0.08515903 -0.65639852 -0.55647159]\n",
      "-0.7353156604599288\n"
     ]
    },
    {
     "name": "stderr",
     "output_type": "stream",
     "text": [
      "c:\\Users\\ishaa\\anaconda3\\lib\\site-packages\\sklearn\\linear_model\\_base.py:141: FutureWarning: 'normalize' was deprecated in version 1.0 and will be removed in 1.2.\n",
      "If you wish to scale the data, use Pipeline with a StandardScaler in a preprocessing stage. To reproduce the previous behavior:\n",
      "\n",
      "from sklearn.pipeline import make_pipeline\n",
      "\n",
      "model = make_pipeline(StandardScaler(with_mean=False), LinearRegression())\n",
      "\n",
      "If you wish to pass a sample_weight parameter, you need to pass it as a fit parameter to each step of the pipeline as follows:\n",
      "\n",
      "kwargs = {s[0] + '__sample_weight': sample_weight for s in model.steps}\n",
      "model.fit(X, y, **kwargs)\n",
      "\n",
      "\n",
      "  warnings.warn(\n"
     ]
    }
   ],
   "source": [
    "room_model_ols = linear_model.LinearRegression(normalize=True)\n",
    "rooms = df[:, 8]\n",
    "room_model_ols.fit(X, rooms)\n",
    "print(room_model_ols.coef_)\n",
    "print(room_model_ols.intercept_)"
   ]
  },
  {
   "cell_type": "code",
   "execution_count": 12,
   "metadata": {},
   "outputs": [
    {
     "name": "stdout",
     "output_type": "stream",
     "text": [
      "[[-0.11111111 -0.14991304  0.31547619 ... -0.96414339 -0.95528263\n",
      "  -0.55778894]\n",
      " [ 0.55555556  0.02817391 -0.25       ... -0.62623128 -0.79247363\n",
      "  -0.44944724]\n",
      " [-0.55555556 -0.00707246  0.00793651 ... -0.31440651 -0.99833097\n",
      "  -0.83467337]\n",
      " ...\n",
      " [-0.33333333 -0.71455072  0.21626984 ... -0.21565241 -0.99855141\n",
      "  -0.5758794 ]\n",
      " [-1.          0.07014493 -0.08928571 ... -0.87918859 -0.99836246\n",
      "  -0.76311558]\n",
      " [ 0.77777778  0.61692754 -0.30357143 ... -0.99316332 -0.98425445\n",
      "  -0.54894977]]\n",
      "[[ 1.          0.61368116 -0.47420635 ... -0.65615077 -0.77263423\n",
      "  -0.73919598]\n",
      " [-0.33333333 -0.30017391  0.39880952 ... -0.13039176 -0.99804755\n",
      "  -0.58040201]\n",
      " [-0.33333333 -0.1053913   0.26984127 ... -0.50788468 -0.99864588\n",
      "  -0.65788945]\n",
      " ...\n",
      " [ 0.11111111 -0.11976812  0.26785714 ... -0.27502361 -0.84254448\n",
      "  -0.55276382]\n",
      " [-0.11111111  0.63547826 -0.47420635 ... -0.99641974 -1.\n",
      "  -0.80693467]\n",
      " [-0.11111111  0.51072464 -0.91865079 ... -0.96860523 -0.99401669\n",
      "  -0.71517588]]\n"
     ]
    }
   ],
   "source": [
    "from sklearn.model_selection import train_test_split\n",
    "training_set, test_set = train_test_split(df, test_size=0.2, random_state=42)\n",
    "print(training_set)\n",
    "print(test_set)\n"
   ]
  }
 ],
 "metadata": {
  "kernelspec": {
   "display_name": "base",
   "language": "python",
   "name": "python3"
  },
  "language_info": {
   "codemirror_mode": {
    "name": "ipython",
    "version": 3
   },
   "file_extension": ".py",
   "mimetype": "text/x-python",
   "name": "python",
   "nbconvert_exporter": "python",
   "pygments_lexer": "ipython3",
   "version": "3.9.13"
  },
  "orig_nbformat": 4
 },
 "nbformat": 4,
 "nbformat_minor": 2
}
